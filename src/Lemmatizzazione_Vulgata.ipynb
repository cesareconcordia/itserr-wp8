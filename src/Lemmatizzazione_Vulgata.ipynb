{
 "cells": [
  {
   "cell_type": "markdown",
   "id": "7d767f59-fcc3-403b-81b6-565a495fb00b",
   "metadata": {},
   "source": [
    "### Weber Vulgata: lemmatizzazione\n",
    "\n",
    "Questo notebook implementa una procedura di lemmatizzazione del testo della Vulgata.  \n",
    "<ol>\n",
    "    <LI>Il testo della Vulgata è ottenuto facendo il parsing dei file <a href=\"https://en.wikipedia.org/wiki/Open_Scripture_Information_Standard\">Open Scripture Information Standard (OSIS)</a> presenti nella <a href=\"https://drive.google.com/drive/folders/1KEFTwR1kLz1Ec_-vU3k-yoFcaynBoP7x\">cartella</a> del drive condiviso del WP8. \n",
    "    <br>I file OSIS vengono processati nell'ordine definito nel file <b>config.yaml</b> che deve essere posizionato nella stessa directory del nb, il risultato di questa fase è un dataframe in cui cisacuna riga contiene il testo di un versetto e le informazioni di localizzazione.</LI>\n",
    "    <li> I lemmi sono ottenuti tramite il Web Service <a href=\"https://lila-erc.eu/LiLaTextLinker/\"> LiLa TextLinker</a>.  <br>\n",
    "         Il testo di ogni versetto viene processato dal TextLinker e i lemmi individuati vengono associati a ciascuna parola del testo.  \n",
    "    </li>\n",
    "</ol>"
   ]
  },
  {
   "cell_type": "markdown",
   "id": "f5c1d7a6-8d94-4c0c-b49d-72b932a731b6",
   "metadata": {},
   "source": [
    "####  Librerie e configurazione"
   ]
  },
  {
   "cell_type": "code",
   "execution_count": 1,
   "id": "66a77ef3-775b-4818-ab26-9b333ed0baa4",
   "metadata": {},
   "outputs": [],
   "source": [
    "import pandas as pd\n",
    "import os\n",
    "import yaml\n",
    "from itserr_lib import OsisParser as op"
   ]
  },
  {
   "cell_type": "code",
   "execution_count": 2,
   "id": "9869708e-78fb-42d3-9b83-425b2c2314a9",
   "metadata": {},
   "outputs": [],
   "source": [
    "if (os.path.isfile('config.yaml')):\n",
    "    configfile=\"config.yaml\"\n",
    "else:\n",
    "    raise FileNotFoundError(errno.ENOENT, os.strerror(errno.ENOENT), \"config.yaml\")\n",
    "try:\n",
    "    with open(configfile, 'r') as stream:\n",
    "        try:\n",
    "            conf=yaml.safe_load(stream)\n",
    "        except yaml.YAMLError as exc:\n",
    "            print(exc)\n",
    "except FileNotFoundError:\n",
    "    print('Warning config.yaml file not present! Please create it and set the values, store it in the main directory')"
   ]
  },
  {
   "cell_type": "markdown",
   "id": "27559b06-a410-4314-9999-5f21d10861be",
   "metadata": {},
   "source": [
    "#### 1 Creo il dataframe con il testo della Vulgata"
   ]
  },
  {
   "cell_type": "code",
   "execution_count": 3,
   "id": "b5fefca1-e276-425f-a6f0-e1622c9368bf",
   "metadata": {},
   "outputs": [],
   "source": [
    "files=conf['TEXTFILES']\n",
    "source=conf['LIBRI_Vulgata']"
   ]
  },
  {
   "cell_type": "code",
   "execution_count": 4,
   "id": "42dfaa78-04eb-4f52-b75e-abf146a3b299",
   "metadata": {},
   "outputs": [],
   "source": [
    "opars=op()"
   ]
  },
  {
   "cell_type": "code",
   "execution_count": null,
   "id": "273eedc9-177a-4551-8bad-2d86585c61cc",
   "metadata": {},
   "outputs": [
    {
     "name": "stderr",
     "output_type": "stream",
     "text": [
      "100%|██████████████████████████████████████████████████████████████████████████████████████| 79/79 [00:00<00:00, 84.25it/s]\n"
     ]
    },
    {
     "name": "stdout",
     "output_type": "stream",
     "text": [
      "Creating IRIs...\n"
     ]
    }
   ],
   "source": [
    "df_opera=opars.getDataFrame(source,files)"
   ]
  },
  {
   "cell_type": "markdown",
   "id": "e5dddb3f-ee23-4bf6-94f1-13d48a1c8bbf",
   "metadata": {},
   "source": [
    "#### Controlli"
   ]
  },
  {
   "cell_type": "code",
   "execution_count": null,
   "id": "d3b06dfc-6774-4be1-9776-3bda469ec140",
   "metadata": {},
   "outputs": [],
   "source": [
    "# Versetti con numero duplicato\n",
    "df_opera[df_opera.duplicated(['idverso'], keep=False)].sort_values(['idverso']).head(10)"
   ]
  },
  {
   "cell_type": "code",
   "execution_count": null,
   "id": "2d356026-a0f0-494a-9008-010eda6d66a7",
   "metadata": {
    "scrolled": true
   },
   "outputs": [],
   "source": [
    "# salti nella numerazione dei versetti\n",
    "parti=df_opera.libro.unique()\n",
    "tot=0\n",
    "for mpa in parti:\n",
    "    mt=df_opera[df_opera.libro==mpa]\n",
    "    capitoli=mt.numcap.unique()\n",
    "    for mcap in capitoli:\n",
    "        mtvers = mt[mt.numcap==mcap]\n",
    "        col_one_list = mtvers['numverso'].tolist()\n",
    "        a = col_one_list[0]\n",
    "        b = col_one_list[-1]\n",
    "        if(a>1):\n",
    "            a=1\n",
    "        nums = set(col_one_list)\n",
    "        expected = [f\"{str(i)}\" if i in nums else 'NA' for i in range(a,b+1)]\n",
    "        if ('NA' in expected):\n",
    "            tot+=1\n",
    "            print('---')\n",
    "            print(f'libro: {mpa}, capitolo: {mcap}, {expected}', end='\\n')\n",
    "        else:\n",
    "            if (len(expected)!=len(nums)):\n",
    "                print(f'OK {mcap}: {expected}')"
   ]
  },
  {
   "cell_type": "markdown",
   "id": "73403e9f-ac0a-43c3-a88e-107c09426036",
   "metadata": {},
   "source": [
    "#### 2 Associo alle parole della Vulgata i lemmi, usando TextLinker di LiLa"
   ]
  },
  {
   "cell_type": "markdown",
   "id": "c3d7847a-da7c-4173-af67-02fb04e37448",
   "metadata": {},
   "source": [
    "#### Carico i lemmi\n",
    "\n",
    "Le chiamate al TextLinker per il totale dei versi dell'opera richiede molto tempo, il lavoro è stato fatto ed il risultato è statro salvato come file JSON."
   ]
  },
  {
   "cell_type": "code",
   "execution_count": null,
   "id": "7d7806a6-60c4-44c1-bcd3-fbc0df1c43ab",
   "metadata": {},
   "outputs": [],
   "source": [
    "# ESEMPIO: lemmatizzazione dei primi due versetti della Genesi\n",
    "test=opars.getLemmi(df_opera[0:2])"
   ]
  },
  {
   "cell_type": "code",
   "execution_count": null,
   "id": "12944fad-956b-4913-b73d-952f981516c9",
   "metadata": {},
   "outputs": [],
   "source": [
    "test.head()"
   ]
  },
  {
   "cell_type": "markdown",
   "id": "21502407-0d8d-4d1f-a20d-d1c01f683ea6",
   "metadata": {},
   "source": [
    "Caricamento dei lemmi dal file JSON"
   ]
  },
  {
   "cell_type": "code",
   "execution_count": null,
   "id": "d6168178-84c0-4012-8772-45b3ce6ed823",
   "metadata": {},
   "outputs": [],
   "source": [
    "df_lemmi = pd.read_json(path_or_buf='data/output/lemmi_1.json', orient='table')\n",
    "df_lemmi.info()"
   ]
  },
  {
   "cell_type": "code",
   "execution_count": null,
   "id": "ead3e2fa-9999-4da3-8e4a-13d58769873f",
   "metadata": {},
   "outputs": [],
   "source": [
    "len(df_lemmi.token.unique())"
   ]
  },
  {
   "cell_type": "code",
   "execution_count": null,
   "id": "3b13a1d0-48e0-4465-99b9-9e632d4e00b1",
   "metadata": {},
   "outputs": [],
   "source": [
    "df_lemmi.head()"
   ]
  },
  {
   "cell_type": "code",
   "execution_count": null,
   "id": "5c07b729-125d-4f76-9f22-f7560f6915a9",
   "metadata": {},
   "outputs": [],
   "source": []
  }
 ],
 "metadata": {
  "kernelspec": {
   "display_name": "lilalemm",
   "language": "python",
   "name": "lilalemm"
  },
  "language_info": {
   "codemirror_mode": {
    "name": "ipython",
    "version": 3
   },
   "file_extension": ".py",
   "mimetype": "text/x-python",
   "name": "python",
   "nbconvert_exporter": "python",
   "pygments_lexer": "ipython3",
   "version": "3.12.3"
  }
 },
 "nbformat": 4,
 "nbformat_minor": 5
}
